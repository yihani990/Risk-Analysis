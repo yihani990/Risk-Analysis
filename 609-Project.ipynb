{
 "cells": [
  {
   "cell_type": "markdown",
   "id": "b1df4e35",
   "metadata": {},
   "source": [
    "# VaR Model"
   ]
  },
  {
   "cell_type": "markdown",
   "id": "2163aceb",
   "metadata": {},
   "source": [
    "- 609 Project\n",
    "- Author: Yu Chunxue\n",
    "- Date: 29/02/2024"
   ]
  },
  {
   "cell_type": "markdown",
   "id": "3a29abf1",
   "metadata": {},
   "source": [
    "<a id=\"top\" style=\"font-size: 24px; color: black;\"> 💪🏻 CONTENT</a>"
   ]
  },
  {
   "cell_type": "markdown",
   "id": "5d3af1eb",
   "metadata": {},
   "source": [
    "## [1.  Parametric VaR Model ](#p1)"
   ]
  },
  {
   "cell_type": "markdown",
   "id": "ddbe2ab1",
   "metadata": {},
   "source": [
    "## [2.  Monte Carlo VaR Model ](#p2)"
   ]
  },
  {
   "cell_type": "markdown",
   "id": "8805b2e6",
   "metadata": {},
   "source": [
    "## [3.   Historical VaR Model ](#p3)"
   ]
  },
  {
   "cell_type": "code",
   "execution_count": 1,
   "id": "0ffb853d",
   "metadata": {},
   "outputs": [],
   "source": [
    "import numpy as np\n",
    "import pandas as pd\n",
    "import scipy\n",
    "from scipy import stats\n",
    "from scipy.stats import norm"
   ]
  },
  {
   "cell_type": "markdown",
   "id": "eae6226b",
   "metadata": {},
   "source": [
    "#### 1.Define the VaR parameters:\n",
    "-  Significance level: 95%\n",
    "-  Risk horizon: 1-day \n",
    "-  Reporting currency\n",
    "\n",
    "#### 2. Identify the portfolio:\n",
    "-  A payer (pay fixed leg) SOFR swap\n",
    "-  $1 million in each of the four stocks: AAPL, MSFT, F (Ford Motor) and BAC (Bank of America)\n",
    "\n",
    "#### 3.Identify the risk factors of the portfolio:\n",
    "- An interest rate curve\n",
    "- When conducting VaR calculations or other risk measurements, fluctuations in SOFR can impact the market value of swap transactions.\n",
    "\n",
    "#### 4.Model the joint distribution of the risk factors over the risk horizon\n",
    "- Parametric VaR\n",
    "- Monte Carlo VaR\n",
    "- Historical VaR\n",
    "\n",
    "#### 5.Build the distribution of the portfolio P&L over the risk horizon\n",
    "\n",
    "\n",
    "#### <span style=\"color:red;\">6. Calculate the VaR</span>"
   ]
  },
  {
   "cell_type": "markdown",
   "id": "91afe9a9",
   "metadata": {},
   "source": [
    "## 0. Clean Data"
   ]
  },
  {
   "cell_type": "markdown",
   "id": "7a2bb485",
   "metadata": {},
   "source": [
    "### 0.1 Swap"
   ]
  },
  {
   "cell_type": "code",
   "execution_count": 2,
   "id": "d7d6ac0b",
   "metadata": {},
   "outputs": [],
   "source": [
    "sofr_curve = pd.read_excel(\"hist_data.xlsm\", sheet_name=\"SofrCurve\")"
   ]
  },
  {
   "cell_type": "code",
   "execution_count": 3,
   "id": "4adf08e1",
   "metadata": {},
   "outputs": [],
   "source": [
    "sofr_curve_transposed = sofr_curve.T\n",
    "sofr_curve_transposed = sofr_curve_transposed.drop(sofr_curve_transposed.index[0])"
   ]
  },
  {
   "cell_type": "code",
   "execution_count": 4,
   "id": "b714d331",
   "metadata": {},
   "outputs": [],
   "source": [
    "sofr_curve_transposed.columns = sofr_curve_transposed.iloc[0]\n",
    "sofr_curve_transposed = sofr_curve_transposed.drop(sofr_curve_transposed.index[0])"
   ]
  },
  {
   "cell_type": "code",
   "execution_count": 5,
   "id": "1dabe0fa",
   "metadata": {
    "scrolled": true
   },
   "outputs": [],
   "source": [
    "sofr_curve_transposed.index = pd.to_datetime(sofr_curve_transposed.index, format=\"%Y-%m-%d\")"
   ]
  },
  {
   "cell_type": "code",
   "execution_count": 6,
   "id": "551d66cc",
   "metadata": {},
   "outputs": [
    {
     "data": {
      "text/html": [
       "<div>\n",
       "<style scoped>\n",
       "    .dataframe tbody tr th:only-of-type {\n",
       "        vertical-align: middle;\n",
       "    }\n",
       "\n",
       "    .dataframe tbody tr th {\n",
       "        vertical-align: top;\n",
       "    }\n",
       "\n",
       "    .dataframe thead th {\n",
       "        text-align: right;\n",
       "    }\n",
       "</style>\n",
       "<table border=\"1\" class=\"dataframe\">\n",
       "  <thead>\n",
       "    <tr style=\"text-align: right;\">\n",
       "      <th>T</th>\n",
       "      <th>0.002778</th>\n",
       "      <th>0.083333</th>\n",
       "      <th>0.166667</th>\n",
       "      <th>0.250000</th>\n",
       "      <th>0.500000</th>\n",
       "      <th>0.750000</th>\n",
       "      <th>1.000000</th>\n",
       "      <th>2.000000</th>\n",
       "      <th>3.000000</th>\n",
       "      <th>4.000000</th>\n",
       "      <th>...</th>\n",
       "      <th>15.000000</th>\n",
       "      <th>16.000000</th>\n",
       "      <th>17.000000</th>\n",
       "      <th>18.000000</th>\n",
       "      <th>19.000000</th>\n",
       "      <th>20.000000</th>\n",
       "      <th>25.000000</th>\n",
       "      <th>30.000000</th>\n",
       "      <th>35.000000</th>\n",
       "      <th>40.000000</th>\n",
       "    </tr>\n",
       "  </thead>\n",
       "  <tbody>\n",
       "    <tr>\n",
       "      <th>2022-10-31</th>\n",
       "      <td>0.039191</td>\n",
       "      <td>0.038721</td>\n",
       "      <td>0.03867</td>\n",
       "      <td>0.040536</td>\n",
       "      <td>0.044577</td>\n",
       "      <td>0.046004</td>\n",
       "      <td>0.046449</td>\n",
       "      <td>0.044583</td>\n",
       "      <td>0.042002</td>\n",
       "      <td>0.040318</td>\n",
       "      <td>...</td>\n",
       "      <td>0.037151</td>\n",
       "      <td>0.037057</td>\n",
       "      <td>0.036907</td>\n",
       "      <td>0.036698</td>\n",
       "      <td>0.036433</td>\n",
       "      <td>0.036111</td>\n",
       "      <td>0.034091</td>\n",
       "      <td>0.03235</td>\n",
       "      <td>0.030552</td>\n",
       "      <td>0.028708</td>\n",
       "    </tr>\n",
       "    <tr>\n",
       "      <th>2022-11-01</th>\n",
       "      <td>0.039604</td>\n",
       "      <td>0.039023</td>\n",
       "      <td>0.038886</td>\n",
       "      <td>0.040725</td>\n",
       "      <td>0.044849</td>\n",
       "      <td>0.046448</td>\n",
       "      <td>0.04697</td>\n",
       "      <td>0.045022</td>\n",
       "      <td>0.042344</td>\n",
       "      <td>0.040614</td>\n",
       "      <td>...</td>\n",
       "      <td>0.036802</td>\n",
       "      <td>0.036682</td>\n",
       "      <td>0.036511</td>\n",
       "      <td>0.036287</td>\n",
       "      <td>0.03601</td>\n",
       "      <td>0.035678</td>\n",
       "      <td>0.033645</td>\n",
       "      <td>0.031979</td>\n",
       "      <td>0.030238</td>\n",
       "      <td>0.028478</td>\n",
       "    </tr>\n",
       "    <tr>\n",
       "      <th>2022-11-02</th>\n",
       "      <td>0.039948</td>\n",
       "      <td>0.039286</td>\n",
       "      <td>0.0391</td>\n",
       "      <td>0.040852</td>\n",
       "      <td>0.044884</td>\n",
       "      <td>0.04658</td>\n",
       "      <td>0.047203</td>\n",
       "      <td>0.045496</td>\n",
       "      <td>0.042749</td>\n",
       "      <td>0.040868</td>\n",
       "      <td>...</td>\n",
       "      <td>0.036855</td>\n",
       "      <td>0.036701</td>\n",
       "      <td>0.036498</td>\n",
       "      <td>0.036248</td>\n",
       "      <td>0.035953</td>\n",
       "      <td>0.035613</td>\n",
       "      <td>0.033627</td>\n",
       "      <td>0.031936</td>\n",
       "      <td>0.030292</td>\n",
       "      <td>0.028608</td>\n",
       "    </tr>\n",
       "    <tr>\n",
       "      <th>2022-11-03</th>\n",
       "      <td>0.040389</td>\n",
       "      <td>0.039585</td>\n",
       "      <td>0.03935</td>\n",
       "      <td>0.041154</td>\n",
       "      <td>0.045281</td>\n",
       "      <td>0.047107</td>\n",
       "      <td>0.047894</td>\n",
       "      <td>0.046594</td>\n",
       "      <td>0.043833</td>\n",
       "      <td>0.041825</td>\n",
       "      <td>...</td>\n",
       "      <td>0.037221</td>\n",
       "      <td>0.037069</td>\n",
       "      <td>0.036886</td>\n",
       "      <td>0.036657</td>\n",
       "      <td>0.036372</td>\n",
       "      <td>0.036022</td>\n",
       "      <td>0.033811</td>\n",
       "      <td>0.032134</td>\n",
       "      <td>0.030407</td>\n",
       "      <td>0.028655</td>\n",
       "    </tr>\n",
       "    <tr>\n",
       "      <th>2022-11-04</th>\n",
       "      <td>0.045965</td>\n",
       "      <td>0.042343</td>\n",
       "      <td>0.038795</td>\n",
       "      <td>0.040611</td>\n",
       "      <td>0.045212</td>\n",
       "      <td>0.046752</td>\n",
       "      <td>0.0475</td>\n",
       "      <td>0.046097</td>\n",
       "      <td>0.043385</td>\n",
       "      <td>0.041503</td>\n",
       "      <td>...</td>\n",
       "      <td>0.037687</td>\n",
       "      <td>0.037557</td>\n",
       "      <td>0.03738</td>\n",
       "      <td>0.037152</td>\n",
       "      <td>0.03687</td>\n",
       "      <td>0.036534</td>\n",
       "      <td>0.034424</td>\n",
       "      <td>0.032558</td>\n",
       "      <td>0.030723</td>\n",
       "      <td>0.028933</td>\n",
       "    </tr>\n",
       "    <tr>\n",
       "      <th>...</th>\n",
       "      <td>...</td>\n",
       "      <td>...</td>\n",
       "      <td>...</td>\n",
       "      <td>...</td>\n",
       "      <td>...</td>\n",
       "      <td>...</td>\n",
       "      <td>...</td>\n",
       "      <td>...</td>\n",
       "      <td>...</td>\n",
       "      <td>...</td>\n",
       "      <td>...</td>\n",
       "      <td>...</td>\n",
       "      <td>...</td>\n",
       "      <td>...</td>\n",
       "      <td>...</td>\n",
       "      <td>...</td>\n",
       "      <td>...</td>\n",
       "      <td>...</td>\n",
       "      <td>...</td>\n",
       "      <td>...</td>\n",
       "      <td>...</td>\n",
       "    </tr>\n",
       "    <tr>\n",
       "      <th>2023-10-24</th>\n",
       "      <td>0.053105</td>\n",
       "      <td>0.053084</td>\n",
       "      <td>0.053202</td>\n",
       "      <td>0.053424</td>\n",
       "      <td>0.05369</td>\n",
       "      <td>0.053293</td>\n",
       "      <td>0.052503</td>\n",
       "      <td>0.048399</td>\n",
       "      <td>0.045999</td>\n",
       "      <td>0.04485</td>\n",
       "      <td>...</td>\n",
       "      <td>0.044093</td>\n",
       "      <td>0.044056</td>\n",
       "      <td>0.043972</td>\n",
       "      <td>0.043841</td>\n",
       "      <td>0.043663</td>\n",
       "      <td>0.043437</td>\n",
       "      <td>0.041874</td>\n",
       "      <td>0.040238</td>\n",
       "      <td>0.038438</td>\n",
       "      <td>0.036493</td>\n",
       "    </tr>\n",
       "    <tr>\n",
       "      <th>2023-10-25</th>\n",
       "      <td>0.052981</td>\n",
       "      <td>0.053057</td>\n",
       "      <td>0.053259</td>\n",
       "      <td>0.05349</td>\n",
       "      <td>0.053749</td>\n",
       "      <td>0.053393</td>\n",
       "      <td>0.052653</td>\n",
       "      <td>0.048791</td>\n",
       "      <td>0.046595</td>\n",
       "      <td>0.045594</td>\n",
       "      <td>...</td>\n",
       "      <td>0.045289</td>\n",
       "      <td>0.045268</td>\n",
       "      <td>0.045198</td>\n",
       "      <td>0.045078</td>\n",
       "      <td>0.044906</td>\n",
       "      <td>0.044683</td>\n",
       "      <td>0.043076</td>\n",
       "      <td>0.041358</td>\n",
       "      <td>0.039564</td>\n",
       "      <td>0.037641</td>\n",
       "    </tr>\n",
       "    <tr>\n",
       "      <th>2023-10-26</th>\n",
       "      <td>0.053047</td>\n",
       "      <td>0.053089</td>\n",
       "      <td>0.053218</td>\n",
       "      <td>0.053414</td>\n",
       "      <td>0.053567</td>\n",
       "      <td>0.053089</td>\n",
       "      <td>0.052243</td>\n",
       "      <td>0.048044</td>\n",
       "      <td>0.045645</td>\n",
       "      <td>0.044538</td>\n",
       "      <td>...</td>\n",
       "      <td>0.044269</td>\n",
       "      <td>0.044244</td>\n",
       "      <td>0.044171</td>\n",
       "      <td>0.044049</td>\n",
       "      <td>0.043882</td>\n",
       "      <td>0.043668</td>\n",
       "      <td>0.042182</td>\n",
       "      <td>0.040589</td>\n",
       "      <td>0.03876</td>\n",
       "      <td>0.036764</td>\n",
       "    </tr>\n",
       "    <tr>\n",
       "      <th>2023-10-27</th>\n",
       "      <td>0.052989</td>\n",
       "      <td>0.05304</td>\n",
       "      <td>0.053185</td>\n",
       "      <td>0.053368</td>\n",
       "      <td>0.053486</td>\n",
       "      <td>0.052991</td>\n",
       "      <td>0.052115</td>\n",
       "      <td>0.047758</td>\n",
       "      <td>0.045284</td>\n",
       "      <td>0.0442</td>\n",
       "      <td>...</td>\n",
       "      <td>0.04446</td>\n",
       "      <td>0.044461</td>\n",
       "      <td>0.044411</td>\n",
       "      <td>0.044309</td>\n",
       "      <td>0.044157</td>\n",
       "      <td>0.043955</td>\n",
       "      <td>0.042508</td>\n",
       "      <td>0.040985</td>\n",
       "      <td>0.039167</td>\n",
       "      <td>0.037148</td>\n",
       "    </tr>\n",
       "    <tr>\n",
       "      <th>2023-10-30</th>\n",
       "      <td>0.052967</td>\n",
       "      <td>0.053053</td>\n",
       "      <td>0.053265</td>\n",
       "      <td>0.053476</td>\n",
       "      <td>0.053612</td>\n",
       "      <td>0.05312</td>\n",
       "      <td>0.052245</td>\n",
       "      <td>0.047904</td>\n",
       "      <td>0.045429</td>\n",
       "      <td>0.044345</td>\n",
       "      <td>...</td>\n",
       "      <td>0.044491</td>\n",
       "      <td>0.044481</td>\n",
       "      <td>0.044422</td>\n",
       "      <td>0.044313</td>\n",
       "      <td>0.044154</td>\n",
       "      <td>0.043946</td>\n",
       "      <td>0.042452</td>\n",
       "      <td>0.040874</td>\n",
       "      <td>0.039068</td>\n",
       "      <td>0.03709</td>\n",
       "    </tr>\n",
       "  </tbody>\n",
       "</table>\n",
       "<p>251 rows × 30 columns</p>\n",
       "</div>"
      ],
      "text/plain": [
       "T          0.002778  0.083333  0.166667  0.250000  0.500000  0.750000   \\\n",
       "2022-10-31  0.039191  0.038721   0.03867  0.040536  0.044577  0.046004   \n",
       "2022-11-01  0.039604  0.039023  0.038886  0.040725  0.044849  0.046448   \n",
       "2022-11-02  0.039948  0.039286    0.0391  0.040852  0.044884   0.04658   \n",
       "2022-11-03  0.040389  0.039585   0.03935  0.041154  0.045281  0.047107   \n",
       "2022-11-04  0.045965  0.042343  0.038795  0.040611  0.045212  0.046752   \n",
       "...              ...       ...       ...       ...       ...       ...   \n",
       "2023-10-24  0.053105  0.053084  0.053202  0.053424   0.05369  0.053293   \n",
       "2023-10-25  0.052981  0.053057  0.053259   0.05349  0.053749  0.053393   \n",
       "2023-10-26  0.053047  0.053089  0.053218  0.053414  0.053567  0.053089   \n",
       "2023-10-27  0.052989   0.05304  0.053185  0.053368  0.053486  0.052991   \n",
       "2023-10-30  0.052967  0.053053  0.053265  0.053476  0.053612   0.05312   \n",
       "\n",
       "T          1.000000  2.000000  3.000000  4.000000   ... 15.000000 16.000000  \\\n",
       "2022-10-31  0.046449  0.044583  0.042002  0.040318  ...  0.037151  0.037057   \n",
       "2022-11-01   0.04697  0.045022  0.042344  0.040614  ...  0.036802  0.036682   \n",
       "2022-11-02  0.047203  0.045496  0.042749  0.040868  ...  0.036855  0.036701   \n",
       "2022-11-03  0.047894  0.046594  0.043833  0.041825  ...  0.037221  0.037069   \n",
       "2022-11-04    0.0475  0.046097  0.043385  0.041503  ...  0.037687  0.037557   \n",
       "...              ...       ...       ...       ...  ...       ...       ...   \n",
       "2023-10-24  0.052503  0.048399  0.045999   0.04485  ...  0.044093  0.044056   \n",
       "2023-10-25  0.052653  0.048791  0.046595  0.045594  ...  0.045289  0.045268   \n",
       "2023-10-26  0.052243  0.048044  0.045645  0.044538  ...  0.044269  0.044244   \n",
       "2023-10-27  0.052115  0.047758  0.045284    0.0442  ...   0.04446  0.044461   \n",
       "2023-10-30  0.052245  0.047904  0.045429  0.044345  ...  0.044491  0.044481   \n",
       "\n",
       "T          17.000000 18.000000 19.000000 20.000000 25.000000 30.000000  \\\n",
       "2022-10-31  0.036907  0.036698  0.036433  0.036111  0.034091   0.03235   \n",
       "2022-11-01  0.036511  0.036287   0.03601  0.035678  0.033645  0.031979   \n",
       "2022-11-02  0.036498  0.036248  0.035953  0.035613  0.033627  0.031936   \n",
       "2022-11-03  0.036886  0.036657  0.036372  0.036022  0.033811  0.032134   \n",
       "2022-11-04   0.03738  0.037152   0.03687  0.036534  0.034424  0.032558   \n",
       "...              ...       ...       ...       ...       ...       ...   \n",
       "2023-10-24  0.043972  0.043841  0.043663  0.043437  0.041874  0.040238   \n",
       "2023-10-25  0.045198  0.045078  0.044906  0.044683  0.043076  0.041358   \n",
       "2023-10-26  0.044171  0.044049  0.043882  0.043668  0.042182  0.040589   \n",
       "2023-10-27  0.044411  0.044309  0.044157  0.043955  0.042508  0.040985   \n",
       "2023-10-30  0.044422  0.044313  0.044154  0.043946  0.042452  0.040874   \n",
       "\n",
       "T          35.000000 40.000000  \n",
       "2022-10-31  0.030552  0.028708  \n",
       "2022-11-01  0.030238  0.028478  \n",
       "2022-11-02  0.030292  0.028608  \n",
       "2022-11-03  0.030407  0.028655  \n",
       "2022-11-04  0.030723  0.028933  \n",
       "...              ...       ...  \n",
       "2023-10-24  0.038438  0.036493  \n",
       "2023-10-25  0.039564  0.037641  \n",
       "2023-10-26   0.03876  0.036764  \n",
       "2023-10-27  0.039167  0.037148  \n",
       "2023-10-30  0.039068   0.03709  \n",
       "\n",
       "[251 rows x 30 columns]"
      ]
     },
     "execution_count": 6,
     "metadata": {},
     "output_type": "execute_result"
    }
   ],
   "source": [
    "sofr_curve_transposed"
   ]
  },
  {
   "cell_type": "markdown",
   "id": "9c8dbb95",
   "metadata": {},
   "source": [
    "### 0.2 Stocks"
   ]
  },
  {
   "cell_type": "code",
   "execution_count": 7,
   "id": "0cebe501",
   "metadata": {},
   "outputs": [],
   "source": [
    "hist_data_multiple_sheets = pd.read_excel(\"hist_data.xlsm\", sheet_name=[\"AAPL\", \"MSFT\", \"F\", \"BAC\"])\n",
    "\n",
    "merged_data = None\n",
    "\n",
    "for sheet_name, data in hist_data_multiple_sheets.items():\n",
    "    if merged_data is None:\n",
    "        merged_data = data\n",
    "    else:\n",
    "        merged_data = pd.merge(merged_data, data, on=\"Date\", how=\"outer\", suffixes=(\"\", \"_\" + sheet_name))"
   ]
  },
  {
   "cell_type": "code",
   "execution_count": 8,
   "id": "51c5dda5",
   "metadata": {},
   "outputs": [],
   "source": [
    "merged_data[\"Date\"] = pd.to_datetime(merged_data[\"Date\"])\n",
    "\n",
    "merged_data.set_index(\"Date\", inplace=True)"
   ]
  },
  {
   "cell_type": "code",
   "execution_count": 9,
   "id": "63e5ee24",
   "metadata": {},
   "outputs": [],
   "source": [
    "merged_data.columns.values[0] = \"Adj Close_AAPL\""
   ]
  },
  {
   "cell_type": "code",
   "execution_count": 10,
   "id": "dfd2b742",
   "metadata": {},
   "outputs": [
    {
     "data": {
      "text/html": [
       "<div>\n",
       "<style scoped>\n",
       "    .dataframe tbody tr th:only-of-type {\n",
       "        vertical-align: middle;\n",
       "    }\n",
       "\n",
       "    .dataframe tbody tr th {\n",
       "        vertical-align: top;\n",
       "    }\n",
       "\n",
       "    .dataframe thead th {\n",
       "        text-align: right;\n",
       "    }\n",
       "</style>\n",
       "<table border=\"1\" class=\"dataframe\">\n",
       "  <thead>\n",
       "    <tr style=\"text-align: right;\">\n",
       "      <th></th>\n",
       "      <th>Adj Close_AAPL</th>\n",
       "      <th>Adj Close_MSFT</th>\n",
       "      <th>Adj Close_F</th>\n",
       "      <th>Adj Close_BAC</th>\n",
       "    </tr>\n",
       "    <tr>\n",
       "      <th>Date</th>\n",
       "      <th></th>\n",
       "      <th></th>\n",
       "      <th></th>\n",
       "      <th></th>\n",
       "    </tr>\n",
       "  </thead>\n",
       "  <tbody>\n",
       "    <tr>\n",
       "      <th>2022-10-31</th>\n",
       "      <td>152.041122</td>\n",
       "      <td>229.443207</td>\n",
       "      <td>11.974380</td>\n",
       "      <td>34.748581</td>\n",
       "    </tr>\n",
       "    <tr>\n",
       "      <th>2022-11-01</th>\n",
       "      <td>149.373917</td>\n",
       "      <td>225.529037</td>\n",
       "      <td>12.001248</td>\n",
       "      <td>34.902847</td>\n",
       "    </tr>\n",
       "    <tr>\n",
       "      <th>2022-11-02</th>\n",
       "      <td>143.801514</td>\n",
       "      <td>217.552444</td>\n",
       "      <td>11.696740</td>\n",
       "      <td>34.796783</td>\n",
       "    </tr>\n",
       "    <tr>\n",
       "      <th>2022-11-03</th>\n",
       "      <td>137.703613</td>\n",
       "      <td>211.770157</td>\n",
       "      <td>11.875863</td>\n",
       "      <td>34.603954</td>\n",
       "    </tr>\n",
       "    <tr>\n",
       "      <th>2022-11-04</th>\n",
       "      <td>137.435455</td>\n",
       "      <td>218.827515</td>\n",
       "      <td>12.099767</td>\n",
       "      <td>35.471703</td>\n",
       "    </tr>\n",
       "    <tr>\n",
       "      <th>...</th>\n",
       "      <td>...</td>\n",
       "      <td>...</td>\n",
       "      <td>...</td>\n",
       "      <td>...</td>\n",
       "    </tr>\n",
       "    <tr>\n",
       "      <th>2023-10-24</th>\n",
       "      <td>172.991058</td>\n",
       "      <td>329.860504</td>\n",
       "      <td>11.215128</td>\n",
       "      <td>25.268324</td>\n",
       "    </tr>\n",
       "    <tr>\n",
       "      <th>2023-10-25</th>\n",
       "      <td>170.657135</td>\n",
       "      <td>339.979980</td>\n",
       "      <td>11.362824</td>\n",
       "      <td>25.347691</td>\n",
       "    </tr>\n",
       "    <tr>\n",
       "      <th>2023-10-26</th>\n",
       "      <td>166.458023</td>\n",
       "      <td>327.225861</td>\n",
       "      <td>11.175742</td>\n",
       "      <td>25.913177</td>\n",
       "    </tr>\n",
       "    <tr>\n",
       "      <th>2023-10-27</th>\n",
       "      <td>167.784576</td>\n",
       "      <td>329.141968</td>\n",
       "      <td>9.807083</td>\n",
       "      <td>24.970699</td>\n",
       "    </tr>\n",
       "    <tr>\n",
       "      <th>2023-10-30</th>\n",
       "      <td>169.849197</td>\n",
       "      <td>336.626770</td>\n",
       "      <td>9.620000</td>\n",
       "      <td>25.486582</td>\n",
       "    </tr>\n",
       "  </tbody>\n",
       "</table>\n",
       "<p>251 rows × 4 columns</p>\n",
       "</div>"
      ],
      "text/plain": [
       "            Adj Close_AAPL  Adj Close_MSFT  Adj Close_F  Adj Close_BAC\n",
       "Date                                                                  \n",
       "2022-10-31      152.041122      229.443207    11.974380      34.748581\n",
       "2022-11-01      149.373917      225.529037    12.001248      34.902847\n",
       "2022-11-02      143.801514      217.552444    11.696740      34.796783\n",
       "2022-11-03      137.703613      211.770157    11.875863      34.603954\n",
       "2022-11-04      137.435455      218.827515    12.099767      35.471703\n",
       "...                    ...             ...          ...            ...\n",
       "2023-10-24      172.991058      329.860504    11.215128      25.268324\n",
       "2023-10-25      170.657135      339.979980    11.362824      25.347691\n",
       "2023-10-26      166.458023      327.225861    11.175742      25.913177\n",
       "2023-10-27      167.784576      329.141968     9.807083      24.970699\n",
       "2023-10-30      169.849197      336.626770     9.620000      25.486582\n",
       "\n",
       "[251 rows x 4 columns]"
      ]
     },
     "execution_count": 10,
     "metadata": {},
     "output_type": "execute_result"
    }
   ],
   "source": [
    "merged_data"
   ]
  },
  {
   "cell_type": "code",
   "execution_count": 11,
   "id": "21e49a86",
   "metadata": {},
   "outputs": [],
   "source": [
    "df1 = sofr_curve_transposed\n",
    "df2 = merged_data"
   ]
  },
  {
   "cell_type": "markdown",
   "id": "e0f07904",
   "metadata": {},
   "source": [
    "##   <a id = \"p1\">1. Para VaR Model </a>   [back](#top)"
   ]
  },
  {
   "cell_type": "markdown",
   "id": "7ddfded9",
   "metadata": {},
   "source": [
    "### 1.1 Swap"
   ]
  },
  {
   "cell_type": "code",
   "execution_count": 12,
   "id": "61e20d80",
   "metadata": {},
   "outputs": [],
   "source": [
    "# Discount factor\n",
    "#df_discountfactor = pd.DataFrame(1 / (1 + df1)).apply(lambda row: row ** pd.to_numeric(df1.columns), axis=1)\n",
    "df1 = df1.apply(pd.to_numeric, errors='coerce')\n",
    "df_discountfactor = pd.DataFrame(np.exp(-df1)).apply(lambda row: row ** pd.to_numeric(df1.columns), axis=1)"
   ]
  },
  {
   "cell_type": "code",
   "execution_count": 13,
   "id": "ab362e88",
   "metadata": {},
   "outputs": [
    {
     "data": {
      "text/plain": [
       "33168363.251927644"
      ]
     },
     "execution_count": 13,
     "metadata": {},
     "output_type": "execute_result"
    }
   ],
   "source": [
    "# Fixed leg - 2023/10/30\n",
    "PV_fixedLeg = sum(1e8 * 0.042 * value for value in df_discountfactor.loc['2023-10-30', 1:10])\n",
    "PV_fixedLeg"
   ]
  },
  {
   "cell_type": "code",
   "execution_count": 14,
   "id": "35bd13e3",
   "metadata": {},
   "outputs": [
    {
     "data": {
      "text/plain": [
       "35611265.25177399"
      ]
     },
     "execution_count": 14,
     "metadata": {},
     "output_type": "execute_result"
    }
   ],
   "source": [
    "# Floating leg - 2023/10/30\n",
    "PV_floatingLeg = 1e8 * (1 - df_discountfactor.loc['2023-10-30', 10])\n",
    "PV_floatingLeg"
   ]
  },
  {
   "cell_type": "code",
   "execution_count": 15,
   "id": "0982f94a",
   "metadata": {},
   "outputs": [
    {
     "data": {
      "text/plain": [
       "2442901.9998463467"
      ]
     },
     "execution_count": 15,
     "metadata": {},
     "output_type": "execute_result"
    }
   ],
   "source": [
    "# PV - 2023/10/30\n",
    "PV_swap = PV_floatingLeg - PV_fixedLeg\n",
    "PV_swap"
   ]
  },
  {
   "cell_type": "code",
   "execution_count": 16,
   "id": "13b56001",
   "metadata": {},
   "outputs": [],
   "source": [
    "# Calculate a - weight: a^k\n",
    "## every 0.1% change of SOFA make how many change of PV\n",
    "\n",
    "a_list = pd.DataFrame(index=['a'])\n",
    "newPV_fixedLegs =[]\n",
    "for column_name in df1.columns:\n",
    "    if 1.0 <= float(column_name) <= 10.0:\n",
    "        newdf1 = df1.copy()\n",
    "        newdf1.loc['2023-10-30', column_name] += 0.0001\n",
    "        newdf_discountfactor = pd.DataFrame(np.exp(-newdf1)).apply(lambda row: row ** pd.to_numeric(newdf1.columns), axis=1)\n",
    "        \n",
    "        newPV_fixedLeg = sum(1e8 * 0.042 * value for value in newdf_discountfactor.loc['2023-10-30', 1:10])\n",
    "        newPV_fixedLegs.append(newPV_fixedLeg)\n",
    "        \n",
    "        newPV_floatingLeg =  1e8 * (1 - newdf_discountfactor.loc['2023-10-30', 10])\n",
    "        a_list[column_name] = (newPV_floatingLeg - newPV_fixedLeg)\n",
    "        \n",
    "    else: \n",
    "        a_list[column_name] = (PV_floatingLeg - PV_fixedLeg) \n",
    "\n",
    "a_list = (a_list - PV_swap) * 1e4 "
   ]
  },
  {
   "cell_type": "code",
   "execution_count": 17,
   "id": "8962cb24",
   "metadata": {},
   "outputs": [],
   "source": [
    "# Get absolute change: delta x^k\n",
    "L1 = df1.diff()"
   ]
  },
  {
   "cell_type": "markdown",
   "id": "ca3773f4",
   "metadata": {},
   "source": [
    "### 1.2 Stockes"
   ]
  },
  {
   "cell_type": "code",
   "execution_count": 18,
   "id": "1e67dabc",
   "metadata": {},
   "outputs": [],
   "source": [
    "# Calculate daily log returns\n",
    "L2 = pd.DataFrame(index = df2.index)\n",
    "for col in [\"Adj Close_AAPL\", \"Adj Close_MSFT\", \"Adj Close_F\", \"Adj Close_BAC\"]:\n",
    "    L2[col + '_return'] = np.log(df2[col]/df2[col].shift(1))"
   ]
  },
  {
   "cell_type": "code",
   "execution_count": 19,
   "id": "3ae7f4ba",
   "metadata": {},
   "outputs": [],
   "source": [
    "# Weight - a^k = 1e6\n",
    "for column_name in L2.columns:\n",
    "    a_list[column_name] = 1e6"
   ]
  },
  {
   "cell_type": "code",
   "execution_count": 20,
   "id": "ca74cf48",
   "metadata": {},
   "outputs": [],
   "source": [
    "PV_stocks = (np.exp(L2.sum()) * 1e6).sum()"
   ]
  },
  {
   "cell_type": "code",
   "execution_count": 21,
   "id": "ab7e24f7",
   "metadata": {},
   "outputs": [
    {
     "data": {
      "text/plain": [
       "4121111.7358001657"
      ]
     },
     "execution_count": 21,
     "metadata": {},
     "output_type": "execute_result"
    }
   ],
   "source": [
    "PV_stocks"
   ]
  },
  {
   "cell_type": "markdown",
   "id": "36f45d04",
   "metadata": {},
   "source": [
    "### 1.3 Combine 2 type of assets"
   ]
  },
  {
   "cell_type": "code",
   "execution_count": 22,
   "id": "33ef495a",
   "metadata": {},
   "outputs": [],
   "source": [
    "L2.index = L1.index"
   ]
  },
  {
   "cell_type": "code",
   "execution_count": 23,
   "id": "bc07d68a",
   "metadata": {},
   "outputs": [],
   "source": [
    "L = pd.concat([L1,L2],axis = 1).dropna()"
   ]
  },
  {
   "cell_type": "markdown",
   "id": "2f1e71eb",
   "metadata": {},
   "source": [
    "### 1.4 Calculate VaR"
   ]
  },
  {
   "cell_type": "code",
   "execution_count": 24,
   "id": "edc78ba0",
   "metadata": {},
   "outputs": [
    {
     "data": {
      "text/plain": [
       "20787.92138927857"
      ]
     },
     "execution_count": 24,
     "metadata": {},
     "output_type": "execute_result"
    }
   ],
   "source": [
    "# Mean and Var\n",
    "mu = L.mean()\n",
    "mu_p = a_list.values @ mu\n",
    "mu_p = mu_p[0]\n",
    "mu_p"
   ]
  },
  {
   "cell_type": "code",
   "execution_count": 25,
   "id": "348d4789",
   "metadata": {},
   "outputs": [
    {
     "data": {
      "text/plain": [
       "332277750399.5879"
      ]
     },
     "execution_count": 25,
     "metadata": {},
     "output_type": "execute_result"
    }
   ],
   "source": [
    "covariance = L.cov()\n",
    "covariance_p = a_list @ covariance @ a_list.T\n",
    "covariance_p = covariance_p.iloc[0,0]\n",
    "covariance_p"
   ]
  },
  {
   "cell_type": "code",
   "execution_count": 26,
   "id": "03c7c599",
   "metadata": {},
   "outputs": [
    {
     "data": {
      "text/plain": [
       "927363.908506733"
      ]
     },
     "execution_count": 26,
     "metadata": {},
     "output_type": "execute_result"
    }
   ],
   "source": [
    "# Parametric VaR\n",
    "## 95% Confidence Level\n",
    "VaR_parametric_95 = abs(scipy.stats.norm.ppf(0.05, mu_p, np.sqrt(covariance_p)))\n",
    "VaR_parametric_95"
   ]
  },
  {
   "cell_type": "markdown",
   "id": "57867d8b",
   "metadata": {},
   "source": [
    "##   <a id = \"p2\">2. MC VaR Model </a>   [back](#top)"
   ]
  },
  {
   "cell_type": "markdown",
   "id": "874a83f6",
   "metadata": {},
   "source": [
    "### 2.1 Risk-based approach"
   ]
  },
  {
   "cell_type": "code",
   "execution_count": 27,
   "id": "b7297d81",
   "metadata": {},
   "outputs": [],
   "source": [
    "# Stimulate new change\n",
    "num_simulations = 10000 \n",
    "newL_mean = np.random.multivariate_normal(L.mean(), L.cov(), num_simulations)"
   ]
  },
  {
   "cell_type": "code",
   "execution_count": 28,
   "id": "cd4b8f44",
   "metadata": {},
   "outputs": [],
   "source": [
    "new_mu_p = []\n",
    "for newL_mean_factor in newL_mean:\n",
    "    result = a_list.values @ newL_mean_factor\n",
    "    new_mu_p.append(result)"
   ]
  },
  {
   "cell_type": "code",
   "execution_count": 29,
   "id": "6c601b09",
   "metadata": {},
   "outputs": [],
   "source": [
    "new_mu_p.sort()"
   ]
  },
  {
   "cell_type": "code",
   "execution_count": 30,
   "id": "5bd27aae",
   "metadata": {},
   "outputs": [
    {
     "data": {
      "text/plain": [
       "931605.5062427421"
      ]
     },
     "execution_count": 30,
     "metadata": {},
     "output_type": "execute_result"
    }
   ],
   "source": [
    "VaR_MC_risk_based_95 = abs(new_mu_p[499])[0]\n",
    "VaR_MC_risk_based_95"
   ]
  },
  {
   "cell_type": "markdown",
   "id": "1d2f1113",
   "metadata": {},
   "source": [
    "### 2.2 Full revaluation approach"
   ]
  },
  {
   "cell_type": "code",
   "execution_count": 31,
   "id": "945856e8",
   "metadata": {},
   "outputs": [],
   "source": [
    "portfolio_value = PV_swap + PV_stocks"
   ]
  },
  {
   "cell_type": "code",
   "execution_count": 32,
   "id": "a10097a8",
   "metadata": {},
   "outputs": [],
   "source": [
    "data = pd.concat([df1.loc['2023-10-30',:],df2.loc['2023-10-30',:]],axis = 0)"
   ]
  },
  {
   "cell_type": "code",
   "execution_count": 33,
   "id": "2d60b450",
   "metadata": {},
   "outputs": [],
   "source": [
    "new_data = []\n",
    "for newL_mean_factor in newL_mean:\n",
    "    result = data + newL_mean_factor\n",
    "    new_data.append(result)"
   ]
  },
  {
   "cell_type": "markdown",
   "id": "f59e1c59",
   "metadata": {},
   "source": [
    "#### swap"
   ]
  },
  {
   "cell_type": "code",
   "execution_count": 34,
   "id": "76c8bebc",
   "metadata": {},
   "outputs": [],
   "source": [
    "new_discountfactor = []\n",
    "for scenario in new_data:\n",
    "    result = np.exp(-scenario).values[:30] ** df1.columns.values\n",
    "    new_discountfactor.append(result)"
   ]
  },
  {
   "cell_type": "code",
   "execution_count": 35,
   "id": "428f12d1",
   "metadata": {},
   "outputs": [],
   "source": [
    "new_fixedLeg = []\n",
    "for df in new_discountfactor:\n",
    "    result = sum(1e8 * 0.042 * value for value in df[6:16])\n",
    "    new_fixedLeg.append(result)"
   ]
  },
  {
   "cell_type": "code",
   "execution_count": 36,
   "id": "fca0a22c",
   "metadata": {},
   "outputs": [],
   "source": [
    "new_floatingLeg = []\n",
    "for df in new_discountfactor:\n",
    "    result = 1e8 * (1 - df[15])\n",
    "    new_floatingLeg.append(result)"
   ]
  },
  {
   "cell_type": "code",
   "execution_count": 37,
   "id": "8f900e6d",
   "metadata": {},
   "outputs": [],
   "source": [
    "newPV_swap = np.array(new_floatingLeg) - np.array(new_fixedLeg)"
   ]
  },
  {
   "cell_type": "markdown",
   "id": "275a3446",
   "metadata": {},
   "source": [
    "#### stocks"
   ]
  },
  {
   "cell_type": "code",
   "execution_count": 38,
   "id": "bb1b92eb",
   "metadata": {},
   "outputs": [],
   "source": [
    "newPV_stocks =[]\n",
    "for scenario in new_data:\n",
    "    result = (scenario[-4:]/ data[-4:] * 1e6).sum()\n",
    "    newPV_stocks.append(result)"
   ]
  },
  {
   "cell_type": "markdown",
   "id": "c1281023",
   "metadata": {},
   "source": [
    "#### Combine"
   ]
  },
  {
   "cell_type": "code",
   "execution_count": 39,
   "id": "8863acd8",
   "metadata": {},
   "outputs": [],
   "source": [
    "new_portfolio_value = newPV_swap + newPV_stocks"
   ]
  },
  {
   "cell_type": "code",
   "execution_count": 40,
   "id": "253e5a4c",
   "metadata": {},
   "outputs": [],
   "source": [
    "VaR_MC_full_revaluation = new_portfolio_value - portfolio_value\n",
    "VaR_MC_full_revaluation.sort()"
   ]
  },
  {
   "cell_type": "code",
   "execution_count": 41,
   "id": "dc618c98",
   "metadata": {},
   "outputs": [
    {
     "data": {
      "text/plain": [
       "1067899.518168386"
      ]
     },
     "execution_count": 41,
     "metadata": {},
     "output_type": "execute_result"
    }
   ],
   "source": [
    "VaR_MC_full_revaluation = abs(VaR_MC_full_revaluation[499])\n",
    "VaR_MC_full_revaluation"
   ]
  },
  {
   "cell_type": "code",
   "execution_count": 43,
   "id": "52482d03",
   "metadata": {},
   "outputs": [],
   "source": [
    "result_df = pd.DataFrame(columns=['VAR'])\n",
    "result_df.loc['para', 'VAR'] = VaR_parametric_95\n",
    "result_df.loc['MC_fullre', 'VAR'] = VaR_MC_full_revaluation\n",
    "result_df.loc['MC_riskbased', 'VAR'] = VaR_MC_risk_based_95"
   ]
  },
  {
   "cell_type": "code",
   "execution_count": 44,
   "id": "fe2f5566",
   "metadata": {},
   "outputs": [
    {
     "data": {
      "text/html": [
       "<div>\n",
       "<style scoped>\n",
       "    .dataframe tbody tr th:only-of-type {\n",
       "        vertical-align: middle;\n",
       "    }\n",
       "\n",
       "    .dataframe tbody tr th {\n",
       "        vertical-align: top;\n",
       "    }\n",
       "\n",
       "    .dataframe thead th {\n",
       "        text-align: right;\n",
       "    }\n",
       "</style>\n",
       "<table border=\"1\" class=\"dataframe\">\n",
       "  <thead>\n",
       "    <tr style=\"text-align: right;\">\n",
       "      <th></th>\n",
       "      <th>VAR</th>\n",
       "    </tr>\n",
       "  </thead>\n",
       "  <tbody>\n",
       "    <tr>\n",
       "      <th>para</th>\n",
       "      <td>927363.908507</td>\n",
       "    </tr>\n",
       "    <tr>\n",
       "      <th>MC_fullre</th>\n",
       "      <td>1067899.518168</td>\n",
       "    </tr>\n",
       "    <tr>\n",
       "      <th>MC_riskbased</th>\n",
       "      <td>931605.506243</td>\n",
       "    </tr>\n",
       "  </tbody>\n",
       "</table>\n",
       "</div>"
      ],
      "text/plain": [
       "                         VAR\n",
       "para           927363.908507\n",
       "MC_fullre     1067899.518168\n",
       "MC_riskbased   931605.506243"
      ]
     },
     "execution_count": 44,
     "metadata": {},
     "output_type": "execute_result"
    }
   ],
   "source": [
    "result_df"
   ]
  },
  {
   "cell_type": "code",
   "execution_count": null,
   "id": "c3df842b",
   "metadata": {},
   "outputs": [],
   "source": []
  }
 ],
 "metadata": {
  "kernelspec": {
   "display_name": "Python 3 (ipykernel)",
   "language": "python",
   "name": "python3"
  },
  "language_info": {
   "codemirror_mode": {
    "name": "ipython",
    "version": 3
   },
   "file_extension": ".py",
   "mimetype": "text/x-python",
   "name": "python",
   "nbconvert_exporter": "python",
   "pygments_lexer": "ipython3",
   "version": "3.11.4"
  }
 },
 "nbformat": 4,
 "nbformat_minor": 5
}
